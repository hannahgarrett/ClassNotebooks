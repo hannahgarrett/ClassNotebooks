{
 "cells": [
  {
   "cell_type": "markdown",
   "id": "4ef4485e",
   "metadata": {},
   "source": [
    "# Ch9 Classes"
   ]
  },
  {
   "cell_type": "markdown",
   "id": "7b465366",
   "metadata": {},
   "source": [
    "### Python is an object oriented programming language.\n",
    "- Almost everything in Python is an object, with its properties and methods (Functions).\n",
    "- A Class is like an object constructor, or a \"blueprint\" for creating objects."
   ]
  },
  {
   "cell_type": "code",
   "execution_count": null,
   "id": "fc2ceab7",
   "metadata": {},
   "outputs": [],
   "source": [
    "class Employee():\n",
    "    # init constructor of the class\n",
    "    #'self' is used to represent the instance of a class\n",
    "    def __init__(self, first,last,age,dept): # method/function\n",
    "        self.first=first.title()\n",
    "        self.last=last.title()\n",
    "        self.age=age\n",
    "        self.dept=dept.title()\n",
    "        self.email=first+'.'+last+'@company.com'\n",
    "        \n",
    "    #Create a full name methon and it only needs the instance\n",
    "    def fullname(self):\n",
    "        return f'full name: {emp_1.first} {emp_1.last}'\n",
    "        \n",
    "        \n",
    "#init will run automatically\n",
    "emp_1=Employee('angel','hill',32,'accounting')\n",
    "emp_2=Employee('peter','white',35,'finance')\n",
    "print(emp_1.email)\n",
    "print(emp_2.email)\n",
    "print(emp_1.fullname())\n",
    "print(emp_2.fullname())\n",
    "#print(f'employee1 full name: {emp_1.first} {emp_1.last}')"
   ]
  },
  {
   "cell_type": "markdown",
   "id": "5d60f7c0",
   "metadata": {},
   "source": [
    "### Creating the Dog Class\n",
    "Each instance created from the Dog class will store a name and an age, and we’ll give each dog the ability to sit() and roll_over():"
   ]
  },
  {
   "cell_type": "code",
   "execution_count": null,
   "id": "bb916bce",
   "metadata": {},
   "outputs": [],
   "source": [
    "class Dog():\n",
    "    def __init__(self,name,age):\n",
    "        self.name=name.title()\n",
    "        self.age=age\n",
    "\n",
    "    def sit(self):\n",
    "        print(f\"{self.name} is now sitting\")\n",
    "\n",
    "    def roll_over(self):\n",
    "    #Simulate rolling over in response to a command.\n",
    "        print(self.name.title() + \" rolled over!\")\n",
    "dog1=Dog(\"Shelby\",5)\n",
    "dog2=Dog(\"Bradly\",2)\n",
    "print(dog1.name)\n",
    "print(dog2.name)\n",
    "print(dog2.age)\n",
    "dog1.roll_over()\n",
    "dog1.sit()\n",
    "dog2.roll_over()"
   ]
  },
  {
   "cell_type": "markdown",
   "id": "8bbcc5c0",
   "metadata": {},
   "source": [
    "#### Note:\n",
    "- By convention, capitalized names refer to classes in Python. \n",
    "- The parentheses in the class definition are empty because we’re creating this class from scratch.\n",
    "- All classes have a function called __init__(), which is always executed when the class is being initiated.\n",
    "- Use the __init__() function to assign values to object properties, or other operations that are necessary to do when the object is being created\n",
    "- Any variable prefixed with `self` is available to every method in the class, and we’ll also be able to access these variables through any instance created from the class.\n",
    "- The Dog class has two other methods defined: sit() and roll_over().Because these methods don’t need additional information like a name or age, we just define them to have one parameter, self."
   ]
  },
  {
   "cell_type": "markdown",
   "id": "402f0696",
   "metadata": {},
   "source": [
    "### Restaurant: Make a class called Restaurant. The __init__() method for Restaurant should store two attributes: a restaurant_name and a cuisine_type.\n",
    "- Make a method called `describe_restaurant()` that prints name of teh restrurent and the cuisine type\n",
    "- and a method called open_restaurant() that prints a message indicating that the restaurant is open.\n",
    "- Make an instance called restaurant from your class. Print the two attributes individually, and then call both methods.\n"
   ]
  },
  {
   "cell_type": "code",
   "execution_count": null,
   "id": "8cc93804",
   "metadata": {},
   "outputs": [],
   "source": [
    "class Restaurant():\n",
    "    \"\"\"A class representing a restaurant.\"\"\"\n",
    "\n",
    "    def __init__(self, name, cuisine_type):\n",
    "        \"\"\"Initialize the restaurant.\"\"\"\n",
    "        self.name = name.title()\n",
    "        self.cuisine_type = cuisine_type\n",
    "\n",
    "    def describe_restaurant(self):\n",
    "        \"\"\"Display a summary of the restaurant.\"\"\"\n",
    "        print(f\"{self.name} serves wonderful {self.cuisine_type}.\")\n",
    "        \n",
    "\n",
    "    def open_restaurant(self):\n",
    "        \"\"\"Display a message that the restaurant is open.\"\"\"\n",
    "        print(f\"{self.name} is open. Come on in!\")\n",
    "\n",
    "restaurant = Restaurant('the mean queen', 'pizza')\n",
    "\n",
    "print(restaurant.name)\n",
    "print(restaurant.cuisine_type)\n",
    "\n",
    "restaurant.describe_restaurant()\n",
    "restaurant.open_restaurant()"
   ]
  },
  {
   "cell_type": "markdown",
   "id": "8b4a4fca",
   "metadata": {},
   "source": [
    "### - Create three different instances from the class, and call describe_restaurant() for each instance."
   ]
  },
  {
   "cell_type": "code",
   "execution_count": null,
   "id": "9f9f98a7",
   "metadata": {},
   "outputs": [],
   "source": [
    "class Restaurant():\n",
    "    \"\"\"A class representing a restaurant.\"\"\"\n",
    "\n",
    "    def __init__(self, name, cuisine_type):\n",
    "        \"\"\"Initialize the restaurant.\"\"\"\n",
    "        self.name = name.title()\n",
    "        self.cuisine_type = cuisine_type\n",
    "\n",
    "    def describe_restaurant(self):\n",
    "        \"\"\"Display a summary of the restaurant.\"\"\"\n",
    "        print(f\"{self.name} serves wonderful {self.cuisine_type}.\")\n",
    "        \n",
    "\n",
    "    def open_restaurant(self):\n",
    "        \"\"\"Display a message that the restaurant is open.\"\"\"\n",
    "        print(f\"{self.name} is open. Come on in!\")\n",
    "mean_queen = Restaurant('the mean queen', 'pizza')\n",
    "mean_queen.describe_restaurant()\n",
    "\n",
    "ludvigs = Restaurant(\"ludvig's bistro\", 'seafood')\n",
    "ludvigs.describe_restaurant()\n",
    "\n",
    "mango_thai = Restaurant('mango thai', 'thai food')\n",
    "mango_thai.describe_restaurant()\n"
   ]
  },
  {
   "cell_type": "markdown",
   "id": "8f4032c6",
   "metadata": {},
   "source": [
    "### Users: Make a class called User. Create attributes called first_name and last_name, username, location \n",
    "- Make a method called describe_user() that prints a summary of the user’s information. \n",
    "- Make another method called greet_user() that prints a personalized greeting to the user.\n",
    "- Create several instances representing different users, and call both methods for each user."
   ]
  },
  {
   "cell_type": "code",
   "execution_count": null,
   "id": "f6eae581",
   "metadata": {},
   "outputs": [],
   "source": [
    "class User():\n",
    "    \"\"\"Represent a simple user profile.\"\"\"\n",
    "\n",
    "    def __init__(self, first_name, last_name, username, location):\n",
    "        \"\"\"Initialize the user.\"\"\"\n",
    "        self.first_name = first_name.title()\n",
    "        self.last_name = last_name.title()\n",
    "        self.username = username\n",
    "        self.location = location.title()\n",
    "\n",
    "    def describe_user(self):\n",
    "        \"\"\"Display a summary of the user's information.\"\"\"\n",
    "        print(f\"\\n{self.first_name} {self.last_name}\")\n",
    "        print(f\"  Username: {self.username}\")\n",
    "        print(f\"  Location: {self.location}\")\n",
    "\n",
    "    def greet_user(self):\n",
    "        \"\"\"Display a personalized greeting to the user.\"\"\"\n",
    "        print(f\"\\nWelcome back, {self.username}!\")\n",
    "\n",
    "eric = User('eric', 'matthes', 'e_matthes', 'alaska')\n",
    "eric.describe_user()\n",
    "eric.greet_user()\n",
    "\n",
    "willie = User('willie', 'burger', 'willieburger', 'alaska')\n",
    "willie.describe_user()\n",
    "willie.greet_user()"
   ]
  },
  {
   "cell_type": "markdown",
   "id": "8b5bfff2",
   "metadata": {},
   "source": [
    "## Setting a Default Value for an Attribute"
   ]
  },
  {
   "cell_type": "code",
   "execution_count": null,
   "id": "b6bfe141",
   "metadata": {},
   "outputs": [],
   "source": [
    "class Car():\n",
    "    def __init__(self, make, model, year):\n",
    "        self.make=make\n",
    "        self.model=model\n",
    "        self.year=year\n",
    "        self.odometer_reading=0\n",
    "\n",
    "    def get_descriptive_name(self):\n",
    "        long_name = str(self.year) + ' ' + self.make + ' ' + self.model\n",
    "        return long_name.title()\n",
    "\n",
    "    def read_odometer(self):\n",
    "        print(\"This car has \" + str(self.odometer_reading) + \" miles on it.\")\n",
    "my_new_car = Car('Nissan', 'Versa', 2016)\n",
    "\n",
    "print(my_new_car.get_descriptive_name())\n",
    "my_new_car.read_odometer()"
   ]
  },
  {
   "cell_type": "markdown",
   "id": "3f840f3e",
   "metadata": {},
   "source": [
    "#### Modifying an Attribute’s Value Directly"
   ]
  },
  {
   "cell_type": "code",
   "execution_count": null,
   "id": "2a30eb73",
   "metadata": {},
   "outputs": [],
   "source": [
    "my_new_car.odometer_reading = 23\n",
    "my_new_car.read_odometer()"
   ]
  },
  {
   "cell_type": "markdown",
   "id": "27f8f244",
   "metadata": {},
   "source": [
    "### Modifying an Attribute’s Value Through a Method"
   ]
  },
  {
   "cell_type": "code",
   "execution_count": null,
   "id": "122f6501",
   "metadata": {},
   "outputs": [],
   "source": [
    "class Car():\n",
    "    def __init__(self, make, model, year):\n",
    "        self.make=make\n",
    "        self.model=model\n",
    "        self.year=year\n",
    "        self.odometer_reading=0\n",
    "\n",
    "    def get_descriptive_name(self):\n",
    "        long_name = str(self.year) + ' ' + self.make + ' ' + self.model\n",
    "        return long_name.title()\n",
    "\n",
    "    def read_odometer(self):\n",
    "        print(\"This car has \" + str(self.odometer_reading) + \" miles on it.\")\n",
    "    def update_odometer(self, mileage):\n",
    "        self.odometer_reading = mileage   \n",
    "        \n",
    "my_new_car = Car('Nissan', 'Versa', 2016)\n",
    "\n",
    "print(my_new_car.get_descriptive_name())\n",
    "my_new_car.update_odometer(23)\n",
    "my_new_car.read_odometer()"
   ]
  },
  {
   "cell_type": "markdown",
   "id": "fd560131",
   "metadata": {},
   "source": [
    "### Incrementing an Attribute’s Value Through a Method"
   ]
  },
  {
   "cell_type": "code",
   "execution_count": null,
   "id": "a48ec92c",
   "metadata": {},
   "outputs": [],
   "source": [
    "class Car():\n",
    "    def __init__(self, make, model, year):\n",
    "        self.make=make\n",
    "        self.model=model\n",
    "        self.year=year\n",
    "        self.odometer_reading=0\n",
    "\n",
    "    def get_descriptive_name(self):\n",
    "        long_name = str(self.year) + ' ' + self.make + ' ' + self.model\n",
    "        return long_name.title()\n",
    "\n",
    "    def read_odometer(self):\n",
    "        print(\"This car has \" + str(self.odometer_reading) + \" miles on it.\")\n",
    "    def update_odometer(self, mileage):\n",
    "        self.odometer_reading = mileage  \n",
    "        \n",
    "    def incremental_odometer(self,miles):\n",
    "        self.odometer_reading+=miles\n",
    "        \n",
    "my_new_car = Car('Nissan', 'Versa', 2016)\n",
    "\n",
    "print(my_new_car.get_descriptive_name())\n",
    "my_new_car.update_odometer(23)\n",
    "my_new_car.read_odometer()"
   ]
  },
  {
   "cell_type": "code",
   "execution_count": null,
   "id": "994388bd",
   "metadata": {},
   "outputs": [],
   "source": [
    "my_new_car.incremental_odometer(100)\n",
    "my_new_car.read_odometer()"
   ]
  },
  {
   "cell_type": "markdown",
   "id": "b96f0d18",
   "metadata": {},
   "source": [
    "# Inheritance\n",
    "- You don’t always have to start from scratch when writing a class. If the class you’re writing is a specialized version of another class you wrote, you can use inheritance. \n",
    "- When one class inherits from another, it automatically takes on all the attributes and methods of the first class. The original class is called the `parent class`, and the new class is the `child class`. \n",
    "- The child class inherits every attribute and method from its parent class but is also free to define new attributes and methods of its own."
   ]
  },
  {
   "cell_type": "code",
   "execution_count": null,
   "id": "c3567055",
   "metadata": {},
   "outputs": [],
   "source": [
    "class Car():\n",
    "    def __init__(self, make, model, year):\n",
    "        self.make=make\n",
    "        self.model=model\n",
    "        self.year=year\n",
    "        self.odometer_reading=0\n",
    "\n",
    "    def get_descriptive_name(self):\n",
    "        long_name = str(self.year) + ' ' + self.make + ' ' + self.model\n",
    "        return long_name.title()\n",
    "\n",
    "    def read_odometer(self):\n",
    "        print(\"This car has \" + str(self.odometer_reading) + \" miles on it.\")\n",
    "    def update_odometer(self, mileage):\n",
    "        self.odometer_reading = mileage  \n",
    "        \n",
    "    def incremental_odometer(self,miles):\n",
    "        self.odometer_reading+=miles"
   ]
  },
  {
   "cell_type": "code",
   "execution_count": null,
   "id": "1b2c2d04",
   "metadata": {},
   "outputs": [],
   "source": [
    "class ElectricCar(Car):\n",
    "\n",
    "    def __init__(self,make,model,year):\n",
    "        super().__init__(make,model,year) # \"\"\"Initialize attributes of the parent class.\"\"\"\n"
   ]
  },
  {
   "cell_type": "code",
   "execution_count": null,
   "id": "07e4a9d3",
   "metadata": {},
   "outputs": [],
   "source": [
    "my_Honda=ElectricCar(\"Honda\",\"CRV\", 2019)\n",
    "print(my_Honda.get_descriptive_name())"
   ]
  },
  {
   "cell_type": "markdown",
   "id": "5b594c20",
   "metadata": {},
   "source": [
    "### Practice: Create a class named Person, with firstname and lastname properties, and a printname method:"
   ]
  },
  {
   "cell_type": "code",
   "execution_count": null,
   "id": "ec6c4892",
   "metadata": {},
   "outputs": [],
   "source": [
    "class Person:\n",
    "    def __init__(self,fname,lname):\n",
    "        self.fname=fname.title()\n",
    "        self.lname=lname.title()\n",
    "        \n",
    "    def printname(self):\n",
    "        print(f'Full name : {self.fname} {self.lname}' )"
   ]
  },
  {
   "cell_type": "code",
   "execution_count": null,
   "id": "d7d6059f",
   "metadata": {},
   "outputs": [],
   "source": [
    "person1=Person(\"John\",\"Smith\")\n",
    "person1.printname()\n",
    "person2=Person(\"Anisha\",\"ray\")\n",
    "person2.printname()"
   ]
  },
  {
   "cell_type": "markdown",
   "id": "a8023470",
   "metadata": {},
   "source": [
    "### Create child classes called Student using Inheritance contains the first and last name and the graduation year \n",
    "- Add a method called `welcome` that prints the student graduation year\n",
    "- Test the student method for two students"
   ]
  },
  {
   "cell_type": "code",
   "execution_count": null,
   "id": "a872defc",
   "metadata": {},
   "outputs": [],
   "source": [
    "class Student(Person):\n",
    "    def __init__(self,fname,lname,year):\n",
    "        super().__init__(fname,lname)\n",
    "        self.graduationyear=year\n",
    "    def welcome(self):\n",
    "        print(f'Welcome, {self.fname} {self.lname} to the class of {self.graduationyear}')\n",
    "Student1=Student(\"Richard\",\"Olson\",2025)\n",
    "Student1.welcome()\n",
    "Student2=Student(\"Harry\",\"Potter\",2026)\n",
    "Student2.welcome()"
   ]
  },
  {
   "cell_type": "markdown",
   "id": "daac1a9d",
   "metadata": {},
   "source": [
    "## Crate rectangle (length and width) and square (length) classes and create methods for calculating the area and perimeter "
   ]
  },
  {
   "cell_type": "code",
   "execution_count": 2,
   "id": "e415e30b",
   "metadata": {},
   "outputs": [],
   "source": [
    "class Rectangle:\n",
    "    def __init__(self, length, width):\n",
    "        self.length = length\n",
    "        self.width = width\n",
    "\n",
    "    def rect_area(self):\n",
    "        return self.length * self.width\n",
    "\n",
    "    def rect_perimeter(self):\n",
    "        return 2 * (self.length + self.width)\n",
    "\n",
    "class Square:\n",
    "    def __init__(self, length):\n",
    "        self.length = length\n",
    "\n",
    "    def square_area(self):\n",
    "        return self.length**2\n",
    "\n",
    "    def square_perimeter(self):\n",
    "        return 4 * self.length"
   ]
  },
  {
   "cell_type": "code",
   "execution_count": 3,
   "id": "f1af3352",
   "metadata": {},
   "outputs": [
    {
     "name": "stdout",
     "output_type": "stream",
     "text": [
      "16\n",
      "16\n"
     ]
    }
   ],
   "source": [
    "square = Square(4)\n",
    "print(square.square_area())\n",
    "print(square.square_perimeter())"
   ]
  },
  {
   "cell_type": "code",
   "execution_count": 4,
   "id": "c4229ace",
   "metadata": {},
   "outputs": [
    {
     "data": {
      "text/plain": [
       "8"
      ]
     },
     "execution_count": 4,
     "metadata": {},
     "output_type": "execute_result"
    }
   ],
   "source": [
    "rectangle = Rectangle(2,4)\n",
    "rectangle.rect_area()"
   ]
  },
  {
   "cell_type": "code",
   "execution_count": 5,
   "id": "13752063",
   "metadata": {},
   "outputs": [
    {
     "data": {
      "text/plain": [
       "12"
      ]
     },
     "execution_count": 5,
     "metadata": {},
     "output_type": "execute_result"
    }
   ],
   "source": [
    "rectangle.rect_perimeter()"
   ]
  },
  {
   "cell_type": "markdown",
   "id": "d3669607",
   "metadata": {},
   "source": [
    "### Use inheritance to create the square class from parent class rectangle"
   ]
  },
  {
   "cell_type": "code",
   "execution_count": 8,
   "id": "df746ed0",
   "metadata": {},
   "outputs": [],
   "source": [
    "class Rectangle:\n",
    "    def __init__(self, length, width):\n",
    "        self.length = length\n",
    "        self.width = width\n",
    "\n",
    "    def area(self):\n",
    "        return self.length * self.width\n",
    "\n",
    "    def perimeter(self):\n",
    "        return 2 * self.length + 2 * self.width\n",
    "\n",
    "# Here we declare that the Square class inherits from the Rectangle class\n",
    "class Square1(Rectangle):\n",
    "    def __init__(self, length):\n",
    "        super().__init__(length,length)"
   ]
  },
  {
   "cell_type": "code",
   "execution_count": 9,
   "id": "7b8a4103",
   "metadata": {},
   "outputs": [
    {
     "data": {
      "text/plain": [
       "16"
      ]
     },
     "execution_count": 9,
     "metadata": {},
     "output_type": "execute_result"
    }
   ],
   "source": [
    "square1 = Square1(4)\n",
    "square1.area()"
   ]
  },
  {
   "cell_type": "markdown",
   "id": "3bdcfd1c",
   "metadata": {},
   "source": [
    "## Create a simple calculator using classes"
   ]
  },
  {
   "cell_type": "code",
   "execution_count": null,
   "id": "684d4542",
   "metadata": {},
   "outputs": [
    {
     "name": "stdout",
     "output_type": "stream",
     "text": [
      "1. Addition\n",
      "2. Subtraction\n",
      "3. Multiplication\n",
      "4. Division\n",
      "5. Exit\n",
      "Enter your choice(1-5):4\n",
      "Enter 1st Number:12\n",
      "Enter 2nd Number:12\n",
      "Division= 1.0\n",
      "1. Addition\n",
      "2. Subtraction\n",
      "3. Multiplication\n",
      "4. Division\n",
      "5. Exit\n"
     ]
    }
   ],
   "source": [
    "class calc():\n",
    "    def __init__(self,input1,input2):\n",
    "        self.input1=input1\n",
    "        self.input2=input2\n",
    "    def addition(num1,num2):\n",
    "        print(\"Addition=\",num1+num2)\n",
    "\n",
    "    def subtraction(num1,num2):\n",
    "        print(\"Subtraction=\",num1-num2)\n",
    "\n",
    "    def multiplication(num1,num2):\n",
    "        print(\"Multiplication=\",num1*num2)\n",
    "\n",
    "    def division(num1,num2):\n",
    "        print(\"Division=\",num1/num2)\n",
    "\n",
    "while True:\n",
    "    print(\"1. Addition\")\n",
    "    print(\"2. Subtraction\")\n",
    "    print(\"3. Multiplication\")\n",
    "    print(\"4. Division\")    \n",
    "    print(\"5. Exit\")\n",
    "    choice=int(input(\"Enter your choice(1-5):\"))\n",
    "\n",
    "    if choice==1:\n",
    "        num1=int(input(\"Enter 1st Number:\"))\n",
    "        num2=int(input(\"Enter 2nd Number:\"))\n",
    "        calc.addition(num1,num2)\n",
    "\n",
    "\n",
    "    elif choice==2:\n",
    "        num1=int(input(\"Enter 1st Number:\"))\n",
    "        num2=int(input(\"Enter 2nd Number:\"))\n",
    "        calc.subtraction(num1,num2)\n",
    "    \n",
    "    elif choice==3:\n",
    "        num1=int(input(\"Enter 1st Number:\"))\n",
    "        num2=int(input(\"Enter 2nd Number:\"))\n",
    "        calc.multiplication(num1,num2)\n",
    "    \n",
    "    elif choice==4:\n",
    "        num1=int(input(\"Enter 1st Number:\"))\n",
    "        num2=int(input(\"Enter 2nd Number:\"))\n",
    "        if num2 == 0:\n",
    "            print('Infinity')\n",
    "        else:\n",
    "            calc.division(num1,num2)\n",
    "                \n",
    "    elif choice==5:\n",
    "        break\n",
    "    else:\n",
    "        print(\"Wrong Choice\")"
   ]
  },
  {
   "cell_type": "markdown",
   "id": "0ec161b5",
   "metadata": {},
   "source": [
    "## ATM machine "
   ]
  },
  {
   "cell_type": "code",
   "execution_count": 1,
   "id": "330bc7c1",
   "metadata": {},
   "outputs": [],
   "source": [
    "class Bank_Account:\n",
    "    def __init__(self):\n",
    "        self.balance=0\n",
    "        print(\"Hello!!! Welcome to the ATM machine\")\n",
    " \n",
    "    def deposit(self):\n",
    "        amount=float(input(\"Enter amount to be Deposited: \"))\n",
    "        self.balance += amount\n",
    "        print(\"\\n Amount Deposited:\",amount)\n",
    " \n",
    "    def withdraw(self):\n",
    "        amount = float(input(\"Enter amount to be Withdrawn: \"))\n",
    "        if self.balance>=amount:\n",
    "            self.balance-=amount\n",
    "            print(\"\\n You Withdrew:\", amount)\n",
    "        else:\n",
    "            print(\"\\n Insufficient balance  \")\n",
    " \n",
    "    def display(self):\n",
    "        print(\"\\n Net Available Balance=\",self.balance)\n",
    "        "
   ]
  },
  {
   "cell_type": "code",
   "execution_count": 3,
   "id": "bce1a0bb",
   "metadata": {},
   "outputs": [
    {
     "name": "stdout",
     "output_type": "stream",
     "text": [
      "Hello!!! Welcome to the ATM machine\n",
      "Enter amount to be Deposited: 400\n",
      "\n",
      " Amount Deposited: 400.0\n"
     ]
    }
   ],
   "source": [
    "my_account = Bank_Account()\n",
    "  \n",
    "# Calling functions with that class object\n",
    "my_account.deposit()\n"
   ]
  },
  {
   "cell_type": "code",
   "execution_count": 4,
   "id": "69fa2930",
   "metadata": {},
   "outputs": [
    {
     "name": "stdout",
     "output_type": "stream",
     "text": [
      "Enter amount to be Deposited: 600\n",
      "\n",
      " Amount Deposited: 600.0\n"
     ]
    }
   ],
   "source": [
    "my_account.deposit()\n"
   ]
  },
  {
   "cell_type": "code",
   "execution_count": 5,
   "id": "a5e0d83d",
   "metadata": {},
   "outputs": [
    {
     "name": "stdout",
     "output_type": "stream",
     "text": [
      "\n",
      " Net Available Balance= 1000.0\n"
     ]
    }
   ],
   "source": [
    "my_account.display()"
   ]
  },
  {
   "cell_type": "code",
   "execution_count": 6,
   "id": "143884de",
   "metadata": {},
   "outputs": [
    {
     "name": "stdout",
     "output_type": "stream",
     "text": [
      "Enter amount to be Withdrawn: 400\n",
      "\n",
      " You Withdrew: 400.0\n",
      "\n",
      " Net Available Balance= 600.0\n"
     ]
    }
   ],
   "source": [
    "my_account.withdraw()\n",
    "my_account.display()"
   ]
  },
  {
   "cell_type": "code",
   "execution_count": null,
   "id": "8ff388d9",
   "metadata": {},
   "outputs": [],
   "source": []
  }
 ],
 "metadata": {
  "kernelspec": {
   "display_name": "Python 3 (ipykernel)",
   "language": "python",
   "name": "python3"
  },
  "language_info": {
   "codemirror_mode": {
    "name": "ipython",
    "version": 3
   },
   "file_extension": ".py",
   "mimetype": "text/x-python",
   "name": "python",
   "nbconvert_exporter": "python",
   "pygments_lexer": "ipython3",
   "version": "3.9.12"
  }
 },
 "nbformat": 4,
 "nbformat_minor": 5
}
