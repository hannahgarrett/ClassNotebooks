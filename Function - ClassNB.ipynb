{
 "cells": [
  {
   "cell_type": "markdown",
   "id": "6a7941e9",
   "metadata": {},
   "source": [
    "# Chapter 8: Functions in Python"
   ]
  },
  {
   "cell_type": "markdown",
   "id": "9d8b91de",
   "metadata": {},
   "source": [
    "## Defining\n",
    "* A function is a block of code which only runs when it is called.\n",
    "\n",
    "* You can pass data, known as parameters, into a function.\n",
    "\n",
    "* A function can return data as a result."
   ]
  },
  {
   "cell_type": "markdown",
   "id": "6557ee86",
   "metadata": {},
   "source": [
    "### This is how you define a function in Python\n",
    "- def keyword\n",
    "- name of the function\n",
    "- (parameters) --> parameters can also be empty\n",
    "- body of the function"
   ]
  },
  {
   "cell_type": "code",
   "execution_count": 1,
   "id": "70b9c447",
   "metadata": {},
   "outputs": [
    {
     "name": "stdout",
     "output_type": "stream",
     "text": [
      "Hello World\n"
     ]
    }
   ],
   "source": [
    "def my_function():\n",
    "    print(\"Hello World\")\n",
    "\n",
    "my_function() # Calling the function to get output"
   ]
  },
  {
   "cell_type": "code",
   "execution_count": 2,
   "id": "0eaf6e94",
   "metadata": {},
   "outputs": [
    {
     "name": "stdout",
     "output_type": "stream",
     "text": [
      "16\n"
     ]
    }
   ],
   "source": [
    "def my_function2():\n",
    "    print(8*2)\n",
    "my_function2()"
   ]
  },
  {
   "cell_type": "markdown",
   "id": "5c361e5a",
   "metadata": {},
   "source": [
    "### Why we need function?"
   ]
  },
  {
   "cell_type": "code",
   "execution_count": 4,
   "id": "1e544009",
   "metadata": {},
   "outputs": [
    {
     "name": "stdout",
     "output_type": "stream",
     "text": [
      "2001 Newburg Road\n",
      "2001 Newburg Road\n",
      "2001 Newburg Road\n",
      "2001 Newburg Road\n",
      "2001 Newburg Road\n"
     ]
    }
   ],
   "source": [
    "print(\"2001 Newburg Road\")\n",
    "print(\"2001 Newburg Road\")\n",
    "print(\"2001 Newburg Road\")\n",
    "print(\"2001 Newburg Road\")\n",
    "print(\"2001 Newburg Road\")"
   ]
  },
  {
   "cell_type": "code",
   "execution_count": 5,
   "id": "3b3457c9",
   "metadata": {},
   "outputs": [
    {
     "name": "stdout",
     "output_type": "stream",
     "text": [
      "2001 Newburg Road\n",
      "2001 Newburg Road\n",
      "2001 Newburg Road\n",
      "2001 Newburg Road\n",
      "2001 Newburg Road\n"
     ]
    }
   ],
   "source": [
    "def address():\n",
    "    print(\"2001 Newburg Road\")\n",
    "\n",
    "address()\n",
    "address()\n",
    "address()\n",
    "address()\n",
    "address()"
   ]
  },
  {
   "cell_type": "markdown",
   "id": "d0f1621e",
   "metadata": {},
   "source": [
    "### Function with parameters"
   ]
  },
  {
   "cell_type": "markdown",
   "id": "08338a48",
   "metadata": {},
   "source": [
    "\n",
    "### The `return` statement: \n",
    "* Use inside a function or method to send the function’s result back to the caller. \n",
    "* A return statement consists of the `return` keyword followed by an optional return value\n",
    "\n",
    "* Three Ways to Return a Result to a Function’s Caller\n",
    "    * **`return`** followed by an expression.\n",
    "    * **`return`** without an expression implicitly returns **`None`**&mdash;represents the **absence of a value** and **evaluates to `False` in conditions**.\n",
    "    * **No `return` statement implicitly returns `None`**.\n"
   ]
  },
  {
   "cell_type": "code",
   "execution_count": 6,
   "id": "ba1b1005",
   "metadata": {},
   "outputs": [
    {
     "data": {
      "text/plain": [
       "9"
      ]
     },
     "execution_count": 6,
     "metadata": {},
     "output_type": "execute_result"
    }
   ],
   "source": [
    "def squared(number):\n",
    "    return(number**2)\n",
    "squared(3)"
   ]
  },
  {
   "cell_type": "code",
   "execution_count": 7,
   "id": "11e8e1ba",
   "metadata": {},
   "outputs": [
    {
     "data": {
      "text/plain": [
       "152399025"
      ]
     },
     "execution_count": 7,
     "metadata": {},
     "output_type": "execute_result"
    }
   ],
   "source": [
    "squared(12345)"
   ]
  },
  {
   "cell_type": "code",
   "execution_count": 8,
   "id": "75b10f07",
   "metadata": {},
   "outputs": [
    {
     "data": {
      "text/plain": [
       "27"
      ]
     },
     "execution_count": 8,
     "metadata": {},
     "output_type": "execute_result"
    }
   ],
   "source": [
    "# Cube of numbers\n",
    "def cubed(number):\n",
    "    return(number**3)\n",
    "cubed(3)"
   ]
  },
  {
   "cell_type": "markdown",
   "id": "0ea073dd",
   "metadata": {},
   "source": [
    "## Our own functions for practice\n",
    "`Echo` that will act same as print"
   ]
  },
  {
   "cell_type": "code",
   "execution_count": 9,
   "id": "ea0aaa14",
   "metadata": {},
   "outputs": [
    {
     "data": {
      "text/plain": [
       "'Hello'"
      ]
     },
     "execution_count": 9,
     "metadata": {},
     "output_type": "execute_result"
    }
   ],
   "source": [
    "def echo(data):\n",
    "    return data\n",
    "echo(\"Hello\")"
   ]
  },
  {
   "cell_type": "code",
   "execution_count": 10,
   "id": "b8101378",
   "metadata": {},
   "outputs": [
    {
     "data": {
      "text/plain": [
       "5"
      ]
     },
     "execution_count": 10,
     "metadata": {},
     "output_type": "execute_result"
    }
   ],
   "source": [
    "echo(5)"
   ]
  },
  {
   "cell_type": "markdown",
   "id": "5e46b2db",
   "metadata": {},
   "source": [
    "### Practice1 Favorite Book: Write a function called favorite_book() that accepts one parameter, title. \n",
    "The function should print a message, such as One of my\n",
    "favorite books is Alice in Wonderland. Call the function, making sure to\n",
    "include a book title as an argument in the function call."
   ]
  },
  {
   "cell_type": "code",
   "execution_count": 13,
   "id": "870ecaf6",
   "metadata": {},
   "outputs": [],
   "source": [
    "def favorite_book(title):\n",
    "    # Display a message about someone's favorite book.\n",
    "    print(title+ \" is one of my favorite books\")"
   ]
  },
  {
   "cell_type": "code",
   "execution_count": 14,
   "id": "1e68f1de",
   "metadata": {},
   "outputs": [
    {
     "name": "stdout",
     "output_type": "stream",
     "text": [
      "Programming with Python is one of my favorite books\n"
     ]
    }
   ],
   "source": [
    "favorite_book(\"Programming with Python\")"
   ]
  },
  {
   "cell_type": "code",
   "execution_count": 16,
   "id": "f3691747",
   "metadata": {},
   "outputs": [],
   "source": [
    "def favorite_book1(title):\n",
    "    message=title+ \" is one of my favorite books\"\n",
    "    return(message)"
   ]
  },
  {
   "cell_type": "code",
   "execution_count": 18,
   "id": "0f0a54b4",
   "metadata": {},
   "outputs": [
    {
     "data": {
      "text/plain": [
       "'Python book is one of my favorite books'"
      ]
     },
     "execution_count": 18,
     "metadata": {},
     "output_type": "execute_result"
    }
   ],
   "source": [
    "favorite_book1(\"Python book\")"
   ]
  },
  {
   "cell_type": "markdown",
   "id": "83d0088a",
   "metadata": {},
   "source": [
    "### Functions with Multiple Parameters\n",
    "* `calc_MPG` function that determines the MPG from miles driven and gallons used"
   ]
  },
  {
   "cell_type": "code",
   "execution_count": 19,
   "id": "f14fae77",
   "metadata": {},
   "outputs": [],
   "source": [
    "def calc_MPG(miles_driven, gallons_used):\n",
    "    return(miles_driven/gallons_used)"
   ]
  },
  {
   "cell_type": "code",
   "execution_count": 20,
   "id": "7d48970b",
   "metadata": {},
   "outputs": [
    {
     "data": {
      "text/plain": [
       "33.333333333333336"
      ]
     },
     "execution_count": 20,
     "metadata": {},
     "output_type": "execute_result"
    }
   ],
   "source": [
    "calc_MPG(100,3)"
   ]
  },
  {
   "cell_type": "markdown",
   "id": "b5e05036",
   "metadata": {},
   "source": [
    "## Default Parameter\n",
    "With default parameters, you can specify a default value that will be used for the function. If you pass a parameter in for the default value, it uses that value instead. \n",
    "### def MPG(miles=200,gallon=12)"
   ]
  },
  {
   "cell_type": "code",
   "execution_count": 1,
   "id": "a9156436",
   "metadata": {},
   "outputs": [],
   "source": [
    "def MPG(miles_driven=200, gallons_used=12):\n",
    "    gallons_used=11\n",
    "    miles_driven=300\n",
    "    return(miles_driven/gallons_used)"
   ]
  },
  {
   "cell_type": "code",
   "execution_count": 2,
   "id": "3bf3a587",
   "metadata": {},
   "outputs": [
    {
     "data": {
      "text/plain": [
       "27.272727272727273"
      ]
     },
     "execution_count": 2,
     "metadata": {},
     "output_type": "execute_result"
    }
   ],
   "source": [
    "MPG()"
   ]
  },
  {
   "cell_type": "code",
   "execution_count": 3,
   "id": "818430ed",
   "metadata": {},
   "outputs": [
    {
     "data": {
      "text/plain": [
       "27.272727272727273"
      ]
     },
     "execution_count": 3,
     "metadata": {},
     "output_type": "execute_result"
    }
   ],
   "source": [
    "MPG(miles_driven=400)"
   ]
  },
  {
   "cell_type": "markdown",
   "id": "325a0f7b",
   "metadata": {},
   "source": [
    "\n",
    "\n",
    "###  Function repeat using `for` loop"
   ]
  },
  {
   "cell_type": "code",
   "execution_count": 31,
   "id": "d09506c0",
   "metadata": {},
   "outputs": [],
   "source": [
    "def repeat_echo(data, count):\n",
    "    for i in range (count):\n",
    "        print(data)"
   ]
  },
  {
   "cell_type": "code",
   "execution_count": 32,
   "id": "4ef5538f",
   "metadata": {},
   "outputs": [
    {
     "name": "stdout",
     "output_type": "stream",
     "text": [
      "2001 Newburd Rd\n",
      "2001 Newburd Rd\n",
      "2001 Newburd Rd\n",
      "2001 Newburd Rd\n",
      "2001 Newburd Rd\n"
     ]
    }
   ],
   "source": [
    "repeat_echo(\"2001 Newburd Rd\", 5)"
   ]
  },
  {
   "cell_type": "markdown",
   "id": "b3003a72",
   "metadata": {},
   "source": [
    "## Practice: Define a function called `name` and print your name 20 times using the function"
   ]
  },
  {
   "cell_type": "code",
   "execution_count": 33,
   "id": "e1ca885b",
   "metadata": {},
   "outputs": [
    {
     "name": "stdout",
     "output_type": "stream",
     "text": [
      "hannah\n",
      "hannah\n",
      "hannah\n",
      "hannah\n",
      "hannah\n",
      "hannah\n",
      "hannah\n",
      "hannah\n",
      "hannah\n",
      "hannah\n",
      "hannah\n",
      "hannah\n",
      "hannah\n",
      "hannah\n",
      "hannah\n",
      "hannah\n",
      "hannah\n",
      "hannah\n",
      "hannah\n",
      "hannah\n"
     ]
    }
   ],
   "source": [
    "def repeat_echo1(data, count):\n",
    "    for h in range(count):\n",
    "        print(data)\n",
    "repeat_echo1(\"hannah\", 20)"
   ]
  },
  {
   "cell_type": "code",
   "execution_count": null,
   "id": "74ecdff8",
   "metadata": {},
   "outputs": [],
   "source": []
  },
  {
   "cell_type": "code",
   "execution_count": null,
   "id": "255cdef1",
   "metadata": {},
   "outputs": [],
   "source": []
  },
  {
   "cell_type": "markdown",
   "id": "c9b50f99",
   "metadata": {},
   "source": [
    "### Write a function to find maximum of three values"
   ]
  },
  {
   "cell_type": "code",
   "execution_count": 4,
   "id": "99900dd8",
   "metadata": {},
   "outputs": [
    {
     "data": {
      "text/plain": [
       "78"
      ]
     },
     "execution_count": 4,
     "metadata": {},
     "output_type": "execute_result"
    }
   ],
   "source": [
    "max(23,56,78)"
   ]
  },
  {
   "cell_type": "code",
   "execution_count": 6,
   "id": "04b21d7f",
   "metadata": {},
   "outputs": [],
   "source": [
    "def maximum(a,b,c):\n",
    "    if a>=b and a>=c:\n",
    "        largest=a\n",
    "    elif b>c:\n",
    "        largest=b\n",
    "    else:\n",
    "        largest=c\n",
    "    return largest"
   ]
  },
  {
   "cell_type": "code",
   "execution_count": 7,
   "id": "4b1abd74",
   "metadata": {},
   "outputs": [
    {
     "data": {
      "text/plain": [
       "45"
      ]
     },
     "execution_count": 7,
     "metadata": {},
     "output_type": "execute_result"
    }
   ],
   "source": [
    "maximum(23,45,12)"
   ]
  },
  {
   "cell_type": "markdown",
   "id": "1a8c15bd",
   "metadata": {},
   "source": [
    "### Practice Example: Define `minimum` function of three values"
   ]
  },
  {
   "cell_type": "code",
   "execution_count": 9,
   "id": "4d547ad4",
   "metadata": {},
   "outputs": [],
   "source": [
    "def minimum(a,b,c):\n",
    "    if a<=b and a<=c:\n",
    "        smallest=a\n",
    "    elif b<c:\n",
    "        smallest=b\n",
    "    else:\n",
    "        smallest=c\n",
    "    return smallest"
   ]
  },
  {
   "cell_type": "code",
   "execution_count": 10,
   "id": "996fb196",
   "metadata": {},
   "outputs": [
    {
     "data": {
      "text/plain": [
       "12"
      ]
     },
     "execution_count": 10,
     "metadata": {},
     "output_type": "execute_result"
    }
   ],
   "source": [
    "minimum(12,45,67)"
   ]
  },
  {
   "cell_type": "code",
   "execution_count": 11,
   "id": "9f64534b",
   "metadata": {},
   "outputs": [
    {
     "data": {
      "text/plain": [
       "23"
      ]
     },
     "execution_count": 11,
     "metadata": {},
     "output_type": "execute_result"
    }
   ],
   "source": [
    "minimum(34,23,89)"
   ]
  },
  {
   "cell_type": "code",
   "execution_count": null,
   "id": "ba60651b",
   "metadata": {},
   "outputs": [],
   "source": []
  },
  {
   "cell_type": "markdown",
   "id": "f20ad451",
   "metadata": {},
   "source": [
    "#  Arbitrary Argument Lists\n",
    "*  **`*args`**, indicating that the function can receive any number of additional arguments. \n",
    "* The `*` before the parameter name tells Python to pack any remaining arguments into a tuple that’s passed to the `args` parameter."
   ]
  },
  {
   "cell_type": "code",
   "execution_count": 12,
   "id": "cafe6bc8",
   "metadata": {},
   "outputs": [],
   "source": [
    "def addition(*args):\n",
    "    return sum(args)"
   ]
  },
  {
   "cell_type": "code",
   "execution_count": 13,
   "id": "e3973d4f",
   "metadata": {},
   "outputs": [
    {
     "data": {
      "text/plain": [
       "145"
      ]
     },
     "execution_count": 13,
     "metadata": {},
     "output_type": "execute_result"
    }
   ],
   "source": [
    "addition(10,23,45,67)"
   ]
  },
  {
   "cell_type": "code",
   "execution_count": 14,
   "id": "5df496d8",
   "metadata": {},
   "outputs": [
    {
     "data": {
      "text/plain": [
       "460"
      ]
     },
     "execution_count": 14,
     "metadata": {},
     "output_type": "execute_result"
    }
   ],
   "source": [
    "addition(34,65,34,4,234,65,24)"
   ]
  },
  {
   "cell_type": "code",
   "execution_count": 15,
   "id": "a2e92c59",
   "metadata": {},
   "outputs": [],
   "source": [
    "# Average of numbers\n",
    "def get_mean(*args):\n",
    "    return sum(args)/len(args)"
   ]
  },
  {
   "cell_type": "code",
   "execution_count": 16,
   "id": "14bfe7cb",
   "metadata": {},
   "outputs": [
    {
     "data": {
      "text/plain": [
       "57.25"
      ]
     },
     "execution_count": 16,
     "metadata": {},
     "output_type": "execute_result"
    }
   ],
   "source": [
    "get_mean(34,54,65,76)"
   ]
  },
  {
   "cell_type": "code",
   "execution_count": 17,
   "id": "875f60ba",
   "metadata": {},
   "outputs": [
    {
     "data": {
      "text/plain": [
       "169.8"
      ]
     },
     "execution_count": 17,
     "metadata": {},
     "output_type": "execute_result"
    }
   ],
   "source": [
    "get_mean(34,645,35,645,34,54,65,76,87,23)"
   ]
  },
  {
   "cell_type": "markdown",
   "id": "84b44203",
   "metadata": {},
   "source": [
    "### Arbitary Argumented list with list"
   ]
  },
  {
   "cell_type": "code",
   "execution_count": 19,
   "id": "e4f2f56d",
   "metadata": {},
   "outputs": [
    {
     "data": {
      "text/plain": [
       "66.75"
      ]
     },
     "execution_count": 19,
     "metadata": {},
     "output_type": "execute_result"
    }
   ],
   "source": [
    "numbers=[34,56,78,99]\n",
    "get_mean(*numbers)"
   ]
  },
  {
   "cell_type": "markdown",
   "id": "688d1f13",
   "metadata": {},
   "source": [
    "### More about functions\n",
    "In this session we looked at the concept of `scope`, working with `random numbers`, `statictics` and using various versions of import to work with different functions in module."
   ]
  },
  {
   "cell_type": "markdown",
   "id": "d21db560",
   "metadata": {},
   "source": [
    "### Scope\n",
    "* Each identifier has a `scope` that determines where you can use it in your program.\n",
    "\n",
    "* A local variable’s identifier has **local scope**. \n",
    "\n",
    "* Identifiers defined outside any function (or class) have **global scope**—these may include functions, variables and classes."
   ]
  },
  {
   "cell_type": "markdown",
   "id": "d8e69b30",
   "metadata": {},
   "source": [
    "One thing you don't want to do is create a variable and function with the same name. The variable will \"hide\" the function and prevent you from calling it. If you execute the cell below it will throw an error."
   ]
  },
  {
   "cell_type": "code",
   "execution_count": 20,
   "id": "440ef670",
   "metadata": {},
   "outputs": [
    {
     "data": {
      "text/plain": [
       "40"
      ]
     },
     "execution_count": 20,
     "metadata": {},
     "output_type": "execute_result"
    }
   ],
   "source": [
    "x=10 # Global variable\n",
    "\n",
    "def scope_of_function(num):\n",
    "    return num*2 # num is a local variable\n",
    "scope_of_function(20)"
   ]
  },
  {
   "cell_type": "code",
   "execution_count": 21,
   "id": "27427b65",
   "metadata": {},
   "outputs": [
    {
     "data": {
      "text/plain": [
       "10"
      ]
     },
     "execution_count": 21,
     "metadata": {},
     "output_type": "execute_result"
    }
   ],
   "source": [
    "x"
   ]
  },
  {
   "cell_type": "code",
   "execution_count": 23,
   "id": "406cf8e1",
   "metadata": {},
   "outputs": [],
   "source": [
    "#num"
   ]
  },
  {
   "cell_type": "markdown",
   "id": "1a55bc5e",
   "metadata": {},
   "source": [
    "* By default, you cannot _modify_ a global variable in a function\n",
    "* Python creates a **new local variable** when you first assign a value to a variable in a function’s block.\n",
    "* In function `try_to_modify_global`’s block, the local `x` **shadows** the global `x`, making it inaccessible in the scope of the function’s block. "
   ]
  },
  {
   "cell_type": "code",
   "execution_count": 24,
   "id": "f2dd1ab9",
   "metadata": {},
   "outputs": [
    {
     "name": "stdout",
     "output_type": "stream",
     "text": [
      "3.5\n"
     ]
    }
   ],
   "source": [
    "x=10\n",
    "def try_to_modify_global():\n",
    "    x=3.5\n",
    "    print(x)\n",
    "try_to_modify_global()"
   ]
  },
  {
   "cell_type": "code",
   "execution_count": 25,
   "id": "292c4ed5",
   "metadata": {},
   "outputs": [
    {
     "data": {
      "text/plain": [
       "10"
      ]
     },
     "execution_count": 25,
     "metadata": {},
     "output_type": "execute_result"
    }
   ],
   "source": [
    "x"
   ]
  },
  {
   "cell_type": "code",
   "execution_count": null,
   "id": "7848deca",
   "metadata": {},
   "outputs": [],
   "source": []
  },
  {
   "cell_type": "markdown",
   "id": "3023353c",
   "metadata": {},
   "source": [
    "* To modify a global variable in a function’s block, you must use a **`global`** statement to declare that the variable is defined in the global scope: \"modify_global\""
   ]
  },
  {
   "cell_type": "code",
   "execution_count": 26,
   "id": "ad58975d",
   "metadata": {},
   "outputs": [
    {
     "name": "stdout",
     "output_type": "stream",
     "text": [
      "3.5\n"
     ]
    }
   ],
   "source": [
    "x=10\n",
    "def modify_global():\n",
    "    global x\n",
    "    x=3.5\n",
    "    print(x)\n",
    "modify_global()"
   ]
  },
  {
   "cell_type": "code",
   "execution_count": 27,
   "id": "c1578e44",
   "metadata": {},
   "outputs": [
    {
     "data": {
      "text/plain": [
       "3.5"
      ]
     },
     "execution_count": 27,
     "metadata": {},
     "output_type": "execute_result"
    }
   ],
   "source": [
    "x"
   ]
  },
  {
   "cell_type": "markdown",
   "id": "109a13bb",
   "metadata": {},
   "source": [
    "## Write functions to find out Area and Perimeter of circle"
   ]
  },
  {
   "cell_type": "code",
   "execution_count": 28,
   "id": "41b7edfe",
   "metadata": {},
   "outputs": [
    {
     "data": {
      "text/plain": [
       "3.141592653589793"
      ]
     },
     "execution_count": 28,
     "metadata": {},
     "output_type": "execute_result"
    }
   ],
   "source": [
    "from math import pi\n",
    "pi"
   ]
  },
  {
   "cell_type": "code",
   "execution_count": 29,
   "id": "a204117c",
   "metadata": {},
   "outputs": [
    {
     "name": "stdout",
     "output_type": "stream",
     "text": [
      "enter the value of radius: 10\n",
      "The area of the circle 314.1592653589793\n",
      "Perimeter of the circle 62.83185307179586\n"
     ]
    }
   ],
   "source": [
    "def area_circle(r):\n",
    "    return pi*(r**2)\n",
    "\n",
    "def peri_circle(r):\n",
    "    return 2*pi*r\n",
    "\n",
    "radius=int(input(\"enter the value of radius: \"))\n",
    "print(\"The area of the circle\", area_circle(radius))\n",
    "print(\"Perimeter of the circle\", peri_circle(radius))"
   ]
  },
  {
   "cell_type": "markdown",
   "id": "df6f51b1",
   "metadata": {},
   "source": [
    "## Write functions to find out Area and Perimeter of rectangle"
   ]
  },
  {
   "cell_type": "code",
   "execution_count": 1,
   "id": "d3b789f5",
   "metadata": {},
   "outputs": [
    {
     "name": "stdout",
     "output_type": "stream",
     "text": [
      "Enter the value of the height: 3\n",
      "Enter the value of the width: 5\n"
     ]
    },
    {
     "ename": "NameError",
     "evalue": "name 'h' is not defined",
     "output_type": "error",
     "traceback": [
      "\u001b[0;31m---------------------------------------------------------------------------\u001b[0m",
      "\u001b[0;31mNameError\u001b[0m                                 Traceback (most recent call last)",
      "Input \u001b[0;32mIn [1]\u001b[0m, in \u001b[0;36m<cell line: 9>\u001b[0;34m()\u001b[0m\n\u001b[1;32m      7\u001b[0m height\u001b[38;5;241m=\u001b[39m\u001b[38;5;28mint\u001b[39m(\u001b[38;5;28minput\u001b[39m(\u001b[38;5;124m\"\u001b[39m\u001b[38;5;124mEnter the value of the height: \u001b[39m\u001b[38;5;124m\"\u001b[39m))\n\u001b[1;32m      8\u001b[0m width\u001b[38;5;241m=\u001b[39m\u001b[38;5;28mint\u001b[39m(\u001b[38;5;28minput\u001b[39m(\u001b[38;5;124m\"\u001b[39m\u001b[38;5;124mEnter the value of the width: \u001b[39m\u001b[38;5;124m\"\u001b[39m))\n\u001b[0;32m----> 9\u001b[0m \u001b[38;5;28mprint\u001b[39m(\u001b[38;5;124m\"\u001b[39m\u001b[38;5;124mThe area of the rectangle\u001b[39m\u001b[38;5;124m\"\u001b[39m, area_rec(\u001b[43mh\u001b[49m,w))\n\u001b[1;32m     10\u001b[0m \u001b[38;5;28mprint\u001b[39m(\u001b[38;5;124m\"\u001b[39m\u001b[38;5;124mThe perimenter of the rectangle\u001b[39m\u001b[38;5;124m\"\u001b[39m, peri_rec(h,w))\n",
      "\u001b[0;31mNameError\u001b[0m: name 'h' is not defined"
     ]
    }
   ],
   "source": [
    "def area_rec(h,w):\n",
    "    return h*w\n",
    "\n",
    "def peri_rec(h,w):\n",
    "    return 2*(h+w)\n",
    "\n",
    "height=int(input(\"Enter the value of the height: \"))\n",
    "width=int(input(\"Enter the value of the width: \"))\n",
    "print(\"The area of the rectangle\", area_rec(h,w))\n",
    "print(\"The perimenter of the rectangle\", peri_rec(h,w))"
   ]
  },
  {
   "cell_type": "code",
   "execution_count": null,
   "id": "190aa5a8",
   "metadata": {},
   "outputs": [],
   "source": []
  },
  {
   "cell_type": "markdown",
   "id": "a8278db5",
   "metadata": {},
   "source": [
    "## Random Number Generation\n",
    "* Can introduce the element of chance via the Python Standard Library’s `random` module. "
   ]
  },
  {
   "cell_type": "markdown",
   "id": "bc0d1543",
   "metadata": {},
   "source": [
    "* `randrange` function generates an integer from the first argument value up to, but not including, the second argument value.\n",
    "* Different values are displayed if you re-execute the loop.\n",
    "* random.randrange where `random` is module and `randrange` is method"
   ]
  },
  {
   "cell_type": "code",
   "execution_count": 34,
   "id": "c79442cd",
   "metadata": {},
   "outputs": [
    {
     "name": "stdout",
     "output_type": "stream",
     "text": [
      "11\n"
     ]
    }
   ],
   "source": [
    "import random\n",
    "x=random.randrange(10,20)\n",
    "print(x)"
   ]
  },
  {
   "cell_type": "code",
   "execution_count": 35,
   "id": "13845d5d",
   "metadata": {},
   "outputs": [
    {
     "name": "stdout",
     "output_type": "stream",
     "text": [
      "5\n",
      "3\n",
      "11\n",
      "1\n",
      "4\n",
      "13\n",
      "13\n",
      "19\n",
      "12\n",
      "6\n",
      "[5, 3, 11, 1, 4, 13, 13, 19, 12, 6]\n"
     ]
    }
   ],
   "source": [
    "# Filling an empty list with random numbers\n",
    "List=[]\n",
    "for i in range(10): #Looking for 10 entries to the list\n",
    "    x=random.randrange(1,20) #numbers will be between 1 to 19 (included)\n",
    "    List.append(x)\n",
    "    print(x)\n",
    "print(List)"
   ]
  },
  {
   "cell_type": "code",
   "execution_count": null,
   "id": "c0cdc4b0",
   "metadata": {},
   "outputs": [],
   "source": []
  },
  {
   "cell_type": "markdown",
   "id": "333c6712",
   "metadata": {},
   "source": [
    "## Print 20 numbers in the range of 30 to 50"
   ]
  },
  {
   "cell_type": "code",
   "execution_count": 37,
   "id": "9b1313e1",
   "metadata": {},
   "outputs": [
    {
     "name": "stdout",
     "output_type": "stream",
     "text": [
      "38\n",
      "35\n",
      "34\n",
      "41\n",
      "48\n",
      "50\n",
      "35\n",
      "50\n",
      "46\n",
      "33\n",
      "30\n",
      "33\n",
      "41\n",
      "30\n",
      "40\n",
      "37\n",
      "35\n",
      "42\n",
      "36\n",
      "45\n",
      "[38, 35, 34, 41, 48, 50, 35, 50, 46, 33, 30, 33, 41, 30, 40, 37, 35, 42, 36, 45]\n"
     ]
    }
   ],
   "source": [
    "List_1=[]\n",
    "for i in range(20):\n",
    "    x=random.randrange(30,51)\n",
    "    List_1.append(x)\n",
    "    print(x)\n",
    "print(List_1)"
   ]
  },
  {
   "cell_type": "code",
   "execution_count": null,
   "id": "bb331b6f",
   "metadata": {},
   "outputs": [],
   "source": []
  },
  {
   "cell_type": "markdown",
   "id": "a58727b8",
   "metadata": {},
   "source": [
    "### Guess the number between 1 to 10"
   ]
  },
  {
   "cell_type": "code",
   "execution_count": 38,
   "id": "49a5f690",
   "metadata": {},
   "outputs": [
    {
     "name": "stdout",
     "output_type": "stream",
     "text": [
      "Enter a number between 1 to 10: 4\n",
      "Try again\n",
      "Enter a number between 1 to 10: 3\n",
      "Try again\n",
      "Enter a number between 1 to 10: 5\n",
      "Try again\n",
      "Enter a number between 1 to 10: 6\n",
      "Try again\n",
      "Enter a number between 1 to 10: 7\n",
      "Try again\n",
      "Enter a number between 1 to 10: 2\n",
      "You won You took 5 chances\n"
     ]
    }
   ],
   "source": [
    "import random\n",
    "number=random.randint(1,10) # randint 10 is included\n",
    "entered_number=None\n",
    "time=0\n",
    "\n",
    "while entered_number!=number:\n",
    "    entered_number=int(input(\"Enter a number between 1 to 10: \"))\n",
    "    \n",
    "    if entered_number==number:\n",
    "        print(\"You won\", \"You took\", time, \"chances\")\n",
    "    else:\n",
    "        print(\"Try again\")\n",
    "    time+=1"
   ]
  },
  {
   "cell_type": "code",
   "execution_count": null,
   "id": "1e635070",
   "metadata": {},
   "outputs": [],
   "source": []
  },
  {
   "cell_type": "code",
   "execution_count": null,
   "id": "1c762dc0",
   "metadata": {},
   "outputs": [],
   "source": []
  }
 ],
 "metadata": {
  "kernelspec": {
   "display_name": "Python 3 (ipykernel)",
   "language": "python",
   "name": "python3"
  },
  "language_info": {
   "codemirror_mode": {
    "name": "ipython",
    "version": 3
   },
   "file_extension": ".py",
   "mimetype": "text/x-python",
   "name": "python",
   "nbconvert_exporter": "python",
   "pygments_lexer": "ipython3",
   "version": "3.9.12"
  }
 },
 "nbformat": 4,
 "nbformat_minor": 5
}
